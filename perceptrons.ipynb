{
  "nbformat": 4,
  "nbformat_minor": 0,
  "metadata": {
    "colab": {
      "name": "perceptrons.ipynb",
      "provenance": []
    },
    "kernelspec": {
      "name": "python3",
      "display_name": "Python 3"
    },
    "language_info": {
      "name": "python"
    }
  },
  "cells": [
    {
      "cell_type": "markdown",
      "metadata": {
        "id": "MS9JN2ju4tAf"
      },
      "source": [
        "Multilayer neural networks are the foundation of deep learning. The multilayer perceptron was the first standardized architecture. In this assignment, you will learn to tune a multilayer perceptron model."
      ]
    },
    {
      "cell_type": "code",
      "metadata": {
        "id": "V_Hb9Syh4NQk"
      },
      "source": [
        "import numpy as np\n",
        "from tensorflow import keras\n",
        "from tensorflow.keras.models import Sequential\n",
        "from tensorflow.keras.layers import Dense, Dropout, Activation\n",
        "from tensorflow.keras.optimizers import SGD\n",
        "from tensorflow.keras.datasets import mnist\n",
        "from tensorflow.keras.utils import to_categorical"
      ],
      "execution_count": 49,
      "outputs": []
    },
    {
      "cell_type": "code",
      "metadata": {
        "id": "mC_CCzGh5JSB"
      },
      "source": [
        "'''\n",
        "Code implements multi-perceptron neural network to classify MNIST images of\n",
        "handwritten digits using Keras and Tensorflow.  Based on code from\n",
        "https://www.packtpub.com/books/content/training-neural-networks-efficiently-using-keras\n",
        "'''\n",
        "\n",
        "def load_and_condition_MNIST_data():\n",
        "    ''' loads and shapes MNIST image data '''\n",
        "    (X_train, y_train), (X_test, y_test) = mnist.load_data()\n",
        "    print(\"\\nLoaded MNIST images\")\n",
        "    X_train = X_train.astype(np.float32) #before conversion were uint8\n",
        "    X_test = X_test.astype(np.float32)\n",
        "    X_train.resize(len(y_train), 784) # 28 pix x 28 pix = 784 pixels\n",
        "    X_test.resize(len(y_test), 784)\n",
        "    print('\\nFirst 3 labels of MNIST y_train: {}'.format(y_train[:5]))\n",
        "    y_train_ohe = to_categorical(y_train) # one hot encode the target\n",
        "    print('\\nFirst 3 labels of MNIST y_train (one-hot):\\n{}'.format(y_train_ohe[:3]))\n",
        "    return X_train, y_train, X_test, y_test, y_train_ohe"
      ],
      "execution_count": 50,
      "outputs": []
    },
    {
      "cell_type": "code",
      "metadata": {
        "colab": {
          "base_uri": "https://localhost:8080/"
        },
        "id": "jevYicWQ45Dq",
        "outputId": "0baddf9d-606d-44f7-e8f0-2ed3d0167d86"
      },
      "source": [
        "X_train, y_train, X_test, y_test, y_train_onehot = load_and_condition_MNIST_data()  "
      ],
      "execution_count": 51,
      "outputs": [
        {
          "output_type": "stream",
          "text": [
            "\n",
            "Loaded MNIST images\n",
            "\n",
            "First 3 labels of MNIST y_train: [5 0 4 1 9]\n",
            "\n",
            "First 3 labels of MNIST y_train (one-hot):\n",
            "[[0. 0. 0. 0. 0. 1. 0. 0. 0. 0.]\n",
            " [1. 0. 0. 0. 0. 0. 0. 0. 0. 0.]\n",
            " [0. 0. 0. 0. 1. 0. 0. 0. 0. 0.]]\n"
          ],
          "name": "stdout"
        }
      ]
    },
    {
      "cell_type": "code",
      "metadata": {
        "colab": {
          "base_uri": "https://localhost:8080/"
        },
        "id": "0IPm5_TR5G1M",
        "outputId": "c7675905-361e-4914-8f77-ff2389110552"
      },
      "source": [
        "#n_samples x n_features\n",
        "X_train.shape, X_test.shape"
      ],
      "execution_count": 52,
      "outputs": [
        {
          "output_type": "execute_result",
          "data": {
            "text/plain": [
              "((60000, 784), (10000, 784))"
            ]
          },
          "metadata": {
            "tags": []
          },
          "execution_count": 52
        }
      ]
    },
    {
      "cell_type": "code",
      "metadata": {
        "colab": {
          "base_uri": "https://localhost:8080/",
          "height": 268
        },
        "id": "uS1aPTG05nEN",
        "outputId": "13b301b2-d26d-44d8-8e46-c93e351dd2ab"
      },
      "source": [
        "\n",
        "import matplotlib.pyplot as plt\n",
        "\n",
        "f, ax = plt.subplots(2,2)\n",
        "\n",
        "for i in range(4):\n",
        "  binax = bin(i)[2:].zfill(2)\n",
        "  ax[int(binax[0]), int(binax[1])].imshow(X_train[i].reshape(28,28))"
      ],
      "execution_count": 53,
      "outputs": [
        {
          "output_type": "display_data",
          "data": {
            "image/png": "[encoded data removed]",
            "text/plain": [
              "<Figure size 432x288 with 4 Axes>"
            ]
          },
          "metadata": {
            "tags": [],
            "needs_background": "light"
          }
        }
      ]
    },
    {
      "cell_type": "code",
      "metadata": {
        "colab": {
          "base_uri": "https://localhost:8080/"
        },
        "id": "bs3VYZ2X63Kz",
        "outputId": "ea7a8492-74ba-4c5c-ef15-986feb5ad39c"
      },
      "source": [
        "#Decision tree classifier\n",
        "from sklearn.tree import DecisionTreeClassifier\n",
        "from sklearn.metrics import accuracy_score\n",
        "\n",
        "clf = DecisionTreeClassifier().fit(X_train, y_train)\n",
        "yhat1 = clf.predict(X_test)\n",
        "print(accuracy_score(y_test, yhat1))"
      ],
      "execution_count": 54,
      "outputs": [
        {
          "output_type": "stream",
          "text": [
            "0.8756\n"
          ],
          "name": "stdout"
        }
      ]
    },
    {
      "cell_type": "code",
      "metadata": {
        "id": "mfJSy2PzBnzY",
        "colab": {
          "base_uri": "https://localhost:8080/"
        },
        "outputId": "3a39ea25-c7f4-46d1-b0ff-efe84baf2eea"
      },
      "source": [
        "#One-vs-all logistic classifier\n",
        "#It's slow to train ten models but does a little better than the tree!\n",
        "from sklearn.multiclass import OneVsRestClassifier\n",
        "#the estimator is stochastic gradient descent\n",
        "from sklearn.linear_model import SGDClassifier\n",
        "\n",
        "lr = OneVsRestClassifier(SGDClassifier()).fit(X_train, y_train)\n",
        "yhat2 = lr.predict(X_test)\n",
        "print(accuracy_score(y_test, yhat2))"
      ],
      "execution_count": 55,
      "outputs": [
        {
          "output_type": "stream",
          "text": [
            "0.881\n"
          ],
          "name": "stdout"
        }
      ]
    },
    {
      "cell_type": "markdown",
      "metadata": {
        "id": "7Tmyq5lR9Xw2"
      },
      "source": [
        "### Logistic Regression in Keras\n",
        "\n",
        "The simplest neural network in Keras is a single node with no hidden layer. A Sequential model is appropriate for a plain stack of layers where each layer has exactly one input tensor and one output tensor. Features becomes nodes in the input layer. Here we have 784, one for each pixel in each image."
      ]
    },
    {
      "cell_type": "code",
      "metadata": {
        "colab": {
          "base_uri": "https://localhost:8080/"
        },
        "id": "fDUAs4edBTrZ",
        "outputId": "5002c82a-c49b-48fd-fc0d-89991795ab48"
      },
      "source": [
        "n_samples, n_features = X_train.shape\n",
        "n_samples, n_features"
      ],
      "execution_count": null,
      "outputs": [
        {
          "output_type": "execute_result",
          "data": {
            "text/plain": [
              "(60000, 784)"
            ]
          },
          "metadata": {
            "tags": []
          },
          "execution_count": 42
        }
      ]
    },
    {
      "cell_type": "code",
      "metadata": {
        "id": "2ygm1VM982VK"
      },
      "source": [
        "#The input layer can also be defined explicitly in a separate layer.\n",
        "model = Sequential( [Dense (1, input_dim=n_features, activation='sigmoid', )] )"
      ],
      "execution_count": 165,
      "outputs": []
    },
    {
      "cell_type": "code",
      "metadata": {
        "colab": {
          "base_uri": "https://localhost:8080/"
        },
        "id": "npEPjtgb91d3",
        "outputId": "c61de330-799a-4f53-d0f6-6448338171ac"
      },
      "source": [
        "#Why does this run without training? Because weights are randomly initialized\n",
        "#Optimization will dial in the weight vector\n",
        "#This initial accuracy fluctuates widely with each new model\n",
        "yhat3 = model.predict(X_test)\n",
        "yhat3 = np.array(yhat3, dtype=int)\n",
        "print(accuracy_score(y_test, yhat3))\n",
        "print(yhat3[:7].T)"
      ],
      "execution_count": 166,
      "outputs": [
        {
          "output_type": "stream",
          "text": [
            "0.1666\n",
            "[[1 1 1 1 0 1 0]]\n"
          ],
          "name": "stdout"
        }
      ]
    },
    {
      "cell_type": "code",
      "metadata": {
        "id": "Zpt_bSp3G77x"
      },
      "source": [
        "#Draws samples from a uniform distribution within [-limit, limit], where limit = sqrt(6 / (fan_in + fan_out)) (fan_in is the number of input units in the weight tensor and fan_out is the number of output units)."
      ],
      "execution_count": null,
      "outputs": []
    },
    {
      "cell_type": "code",
      "metadata": {
        "id": "hUxGJEuuKehA"
      },
      "source": [
        ""
      ],
      "execution_count": null,
      "outputs": []
    }
  ]
}